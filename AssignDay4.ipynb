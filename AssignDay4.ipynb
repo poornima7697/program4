{
 "cells": [
  {
   "cell_type": "code",
   "execution_count": 2,
   "id": "b2f9830f",
   "metadata": {},
   "outputs": [
    {
     "name": "stdout",
     "output_type": "stream",
     "text": [
      "Enter any value:4 5 6 4 2 5 \n",
      "Repeated Values:\n",
      "4 5 "
     ]
    }
   ],
   "source": [
    "#1.\tWrite a Python program to find the repeated items of a tuple.\n",
    "t = [int(x) for x in input(\"Enter any value:\").split()]\n",
    "t = tuple(t)\n",
    "print(\"Repeated Values:\")\n",
    "for i in range(0,len(t)):\n",
    " \n",
    "    for j in range(i+1,len(t)):\n",
    " \n",
    "        if t[i]==t[j]:\n",
    " \n",
    "            print(t[i],end=\" \")"
   ]
  },
  {
   "cell_type": "code",
   "execution_count": 3,
   "id": "786cd770",
   "metadata": {},
   "outputs": [
    {
     "name": "stdout",
     "output_type": "stream",
     "text": [
      "Tuple Items =  (4, 6, 8, 11, 22, 43, 58, 99, 16)\n",
      "Enter Tuple Item to Find = 11\n",
      "11  is in the numTuple\n"
     ]
    }
   ],
   "source": [
    "#2.\tWrite a Python program to check whether an element exists within a tuple.\n",
    "numTuple = (4, 6, 8, 11, 22, 43, 58, 99, 16)\n",
    "print(\"Tuple Items = \", numTuple)\n",
    "\n",
    "number = int(input(\"Enter Tuple Item to Find = \"))\n",
    "\n",
    "if number in numTuple:\n",
    "    print(number, \" is in the numTuple\")\n",
    "else:\n",
    "    print(\"Sorry! We haven't found \", number, \" in numTuple\")"
   ]
  },
  {
   "cell_type": "code",
   "execution_count": 5,
   "id": "565d31a8",
   "metadata": {},
   "outputs": [
    {
     "name": "stdout",
     "output_type": "stream",
     "text": [
      "[5, 10, 7, 4, 15, 3]\n",
      "(5, 10, 7, 4, 15, 3)\n"
     ]
    }
   ],
   "source": [
    "#3.\tWrite a Python program to convert a list to a tuple.\n",
    "listx = [5, 10, 7, 4, 15, 3]\n",
    "print(listx)\n",
    "tuplex = tuple(listx)\n",
    "print(tuplex)"
   ]
  },
  {
   "cell_type": "code",
   "execution_count": 6,
   "id": "e934b4f0",
   "metadata": {},
   "outputs": [
    {
     "name": "stdout",
     "output_type": "stream",
     "text": [
      "The original list of tuple is \n",
      "[(4, 5), (2, 3), (6, 7), (2, 8)]\n",
      "\n",
      "The answer is\n",
      "[(2, 3), (4, 5), (2, 8), (6, 7)]\n"
     ]
    }
   ],
   "source": [
    "#4.\t\"WaP to sort list of tuple based on sum Input: [(4, 5), (2, 3), (6, 7), (2, 8)] Output: [(2, 3), (4, 5), (2, 8), (6, 7)]\"\n",
    "Input = [(4, 5), (2, 3), (6, 7), (2, 8)] \n",
    "  \n",
    "print(\"The original list of tuple is \")\n",
    "print(Input)\n",
    "lst = len(Input)\n",
    "for i in range(lst):\n",
    "      \n",
    "    for j in range(lst-i-1):\n",
    "        if (Input[j][0]+Input[j][1]) > (Input[j+1][0]+Input[j+1][1]):\n",
    "            Input[j], Input[j+1] = Input[j+1], Input[j]\n",
    "  \n",
    "  \n",
    "# print output\n",
    "print(\"\\nThe answer is\")\n",
    "print(Input)"
   ]
  },
  {
   "cell_type": "code",
   "execution_count": 14,
   "id": "d58e287f",
   "metadata": {},
   "outputs": [
    {
     "name": "stdout",
     "output_type": "stream",
     "text": [
      "('o', 'l', 'l', 'e', 'h')\n",
      "(20, 15, 10, 5)\n"
     ]
    }
   ],
   "source": [
    "#5.\tWrite a Python program to reverse a tuple\n",
    "x = (\"hello\")\n",
    "# Reversed the tuple\n",
    "y = reversed(x)\n",
    "print(tuple(y))\n",
    "#create another tuple\n",
    "x = (5, 10, 15, 20)\n",
    "# Reversed the tuple\n",
    "y = reversed(x)\n",
    "print(tuple(y))"
   ]
  },
  {
   "cell_type": "code",
   "execution_count": 19,
   "id": "03d4df7d",
   "metadata": {},
   "outputs": [
    {
     "name": "stdout",
     "output_type": "stream",
     "text": [
      "(0, 1, 2, 3)\n",
      "('python', 'hello')\n",
      "\n",
      "copy the contents of one tuple : \n",
      "((0, 1, 2, 3), ('python', 'hello'))\n"
     ]
    }
   ],
   "source": [
    "#6.\tWrite a code to copy contents of one tuple to other in all possible ways\n",
    "Tuple1 = (0, 1, 2, 3)\n",
    "print(Tuple1)\n",
    "Tuple2 = ('python', 'hello')\n",
    "print(Tuple2)\n",
    "Tuple3 = (Tuple1, Tuple2)\n",
    "print(\"\\ncopy the contents of one tuple : \")\n",
    "print(Tuple3)"
   ]
  },
  {
   "cell_type": "code",
   "execution_count": 1,
   "id": "e580b89a",
   "metadata": {},
   "outputs": [
    {
     "name": "stdout",
     "output_type": "stream",
     "text": [
      "(1, 2, 3, 4, 5, 6, 7, 8, 9)\n"
     ]
    }
   ],
   "source": [
    "#7.\tIf tuple1 = (1,2,3,4,5,6,7,8,9) move contents of tuple1 to tuple2 except 4.\n",
    "#initialize tuple\n",
    "Tuple1= (1,2,3,4,5,6,7,8,9)\n",
    "t2=()\n",
    "aList = list(Tuple1)\n",
    "aList.remove(4)\n",
    "t2=tuple(Tuple1)\n",
    "print(t2)"
   ]
  },
  {
   "cell_type": "code",
   "execution_count": 4,
   "id": "3a47e6ff",
   "metadata": {},
   "outputs": [
    {
     "name": "stdout",
     "output_type": "stream",
     "text": [
      "(4, 5, 6, 7, 100)\n"
     ]
    }
   ],
   "source": [
    "#8. Tuple contains two lists #list 1 and list 2. List1=[4,5,6,7] list2=[6,7,8,9] Write a code to append 100 in list1 of tuple and Remove 7 from list2 of tuple\n",
    "List1=[4,5,6,7]\n",
    "t1=tuple(List1)\n",
    "t1= t1+(100 ,)\n",
    "print(t1)\n",
    "#list2=[6,7,8,9]"
   ]
  },
  {
   "cell_type": "code",
   "execution_count": 22,
   "id": "3b87edd0",
   "metadata": {},
   "outputs": [
    {
     "name": "stdout",
     "output_type": "stream",
     "text": [
      "{'a': 400, 'b': 400, 'c': 300, 'd': 400}\n"
     ]
    }
   ],
   "source": [
    "#dictionary\n",
    "\n",
    "#1.\tWrite a Python program to combine two dictionary adding values for common keys. Go to the editor\n",
    "#d1 = {'a': 100, 'b': 200, 'c':300}\n",
    "#d2 = {'a': 300, 'b': 200, 'd':400}\n",
    "#Sample output: Counter({'a': 400, 'b': 400, 'd': 400, 'c': 300})\n",
    "\n",
    "d1 = {'a': 100, 'b': 200, 'c':300}\n",
    "d2 = {'a': 300, 'b': 200, 'd':400}\n",
    "d3 = dict(d1) \n",
    "d3.update(d2) \n",
    "for i, j in d1.items():\n",
    "\n",
    "    for x, y in d2.items():\n",
    "\n",
    "        if i == x:\n",
    "\n",
    "            d3[i]=(j+y)\n",
    "\n",
    "print(d3)\n"
   ]
  },
  {
   "cell_type": "code",
   "execution_count": 23,
   "id": "888946bf",
   "metadata": {},
   "outputs": [
    {
     "name": "stdout",
     "output_type": "stream",
     "text": [
      "Original List:  [{'V': 'S001'}, {'V': 'S002'}, {'VI': 'S001'}, {'VI': 'S005'}, {'VII': 'S005'}, {'V': 'S009'}, {'VIII': 'S007'}]\n",
      "Unique Values:  {'S009', 'S001', 'S007', 'S002', 'S005'}\n"
     ]
    }
   ],
   "source": [
    "#2.\tWrite a Python program to print all unique values in a dictionary.\n",
    "#Original List:  [{'V': 'S001'}, {'V': 'S002'}, {'VI': 'S001'}, {'VI': 'S005'}, {'VII': 'S005'}, {'V': 'S009'},\n",
    "#{'VIII': 'S007'}]\n",
    "#Unique Values:  {'S009', 'S002', 'S007', 'S005', 'S001'}\n",
    "\n",
    "L = [{\"V\":\"S001\"}, {\"V\": \"S002\"}, {\"VI\": \"S001\"}, {\"VI\": \"S005\"}, {\"VII\":\"S005\"}, {\"V\":\"S009\"},{\"VIII\":\"S007\"}]\n",
    "print(\"Original List: \",L)\n",
    "u_value = set( val for dic in L for val in dic.values())\n",
    "print(\"Unique Values: \",u_value)\n"
   ]
  },
  {
   "cell_type": "code",
   "execution_count": 24,
   "id": "0868776e",
   "metadata": {},
   "outputs": [
    {
     "name": "stdout",
     "output_type": "stream",
     "text": [
      "{'w': 1, '3': 1, 'r': 2, 'e': 2, 's': 1, 'o': 1, 'u': 1, 'c': 1}\n"
     ]
    }
   ],
   "source": [
    "#3.\tWrite a Python program to create a dictionary from a string.\n",
    " #Track the count of the letters from the string.\n",
    "#Sample string : 'w3resource'\n",
    "#Expected output: {'3': 1, 's': 1, 'r': 2, 'u': 1, 'w': 1, 'c': 1, 'e': 2, 'o': 1}\n",
    "\n",
    "str1 = 'w3resource' \n",
    "my_dict = {}\n",
    "for letter in str1:\n",
    "    my_dict[letter] = my_dict.get(letter, 0) + 1\n",
    "print(my_dict)\n"
   ]
  },
  {
   "cell_type": "code",
   "execution_count": 2,
   "id": "4254dd00",
   "metadata": {},
   "outputs": [
    {
     "name": "stdout",
     "output_type": "stream",
     "text": [
      "Updated dictionary 1 :\n",
      "{'Physics': 82, 'Math': 65, 'history': 75}\n",
      "Keys with minimum values are : ['Math']\n"
     ]
    }
   ],
   "source": [
    "#4.\tMerge following two Python dictionaries into one.\n",
    "#Get the key corresponding to the minimum value from the following dictionary\n",
    "#sampleDict = {  'Physics': 82,  'Math': 65,  'history': 75}\n",
    "#Expected output:  Math\n",
    "\n",
    "dict1 = { 'Physics': 82 }\n",
    "# Create second dictionary\n",
    "dict2 = { 'Math': 65,  'history': 75 }\n",
    "# Merge contents of dict2 in dict1\n",
    "dict1.update(dict2)\n",
    "print('Updated dictionary 1 :')\n",
    "print(str(dict1))\n",
    "temp = min(dict1.values())\n",
    "res = [key for key in dict1 if dict1[key] == temp]\n",
    "print(\"Keys with minimum values are : \" + str(res))\n",
    " \n",
    "    \n",
    "    \n"
   ]
  },
  {
   "cell_type": "code",
   "execution_count": 26,
   "id": "9e1c69ea",
   "metadata": {},
   "outputs": [
    {
     "name": "stdout",
     "output_type": "stream",
     "text": [
      "{'python': 100, 'java': 200, 'for': 325}\n"
     ]
    }
   ],
   "source": [
    "#5.\tCombine two dictionary adding values for common keys\n",
    "#Input: dict1 = {'a': 12, 'for': 25, 'c': 9}\n",
    "#dict2 = {'python': 100, 'java': 200, 'for': 300}\n",
    "#Output: {'for': 325, 'python': 100, 'java': 200}\n",
    "\n",
    "dict1 = {'a': 12, 'for': 25, 'c': 9} \n",
    "\n",
    "dict2 = {'python': 100, 'java': 200, 'for': 300} \n",
    "\n",
    "# adding the values with common key \n",
    "\n",
    "for key in dict2: \n",
    "\n",
    "    if key in dict1: \n",
    "\n",
    "        dict2[key] = dict2[key] + dict1[key] \n",
    "\n",
    "    else: \n",
    "\n",
    "        pass\n",
    "\n",
    "          \n",
    "\n",
    "print(dict2)"
   ]
  },
  {
   "cell_type": "code",
   "execution_count": 29,
   "id": "38d21ce4",
   "metadata": {},
   "outputs": [
    {
     "name": "stdout",
     "output_type": "stream",
     "text": [
      "{103: {'Apple': 10}}\n"
     ]
    }
   ],
   "source": [
    "#6.\tdict1={101:{“Apple” :10, “Mango” :5 },\n",
    "#           102 :{“Apple” :15, “Mango” :8, “Cherry” :5 },\n",
    "#           103: {“Apple” :10} }\n",
    "#Output//Dict2= {“ Apple” :35, “Mango” :13, “Cherry” :5 }\n",
    "\n",
    "dict1={101:{\"Apple\" :10, \"Mango\" :5 }}\n",
    "dict2={102:{\"Apple\" :15, \"Mango\" :8, \"Cherry\" :5 }}\n",
    "dict3={103:{\"Apple\" :10} }\n",
    "dict4={}\n",
    "for i, j in dict1.items():\n",
    "    for x, y in dict2.items():\n",
    "        if i == x:\n",
    "            dict3[i]=(j+y)\n",
    "print(dict3)\n",
    "\n"
   ]
  },
  {
   "cell_type": "code",
   "execution_count": 32,
   "id": "fdbcd3f4",
   "metadata": {},
   "outputs": [
    {
     "name": "stdout",
     "output_type": "stream",
     "text": [
      "Enter n: 2\n",
      "Enter roll no: 1\n",
      "Enter name: a\n",
      "Enter marks: 85\n",
      "Enter roll no: 2\n",
      "Enter name: b\n",
      "Enter marks: 40\n",
      "a\n"
     ]
    }
   ],
   "source": [
    "#7.Have dictionary with roll as key and marks obtained as value, show key with highest marks\n",
    "n=int(int(input(\"Enter n: \"))) \n",
    "d={} \n",
    "for i in range(n): \n",
    "    roll_no=int(input(\"Enter roll no: \")) \n",
    "    name=input(\"Enter name: \") \n",
    "    marks=int(input(\"Enter marks: \")) \n",
    "    d[roll_no]=[name,marks] \n",
    "for k in d: \n",
    "    if(d[k][1]>75): \n",
    "        print(d[k][0])"
   ]
  },
  {
   "cell_type": "code",
   "execution_count": null,
   "id": "5ae22eca",
   "metadata": {},
   "outputs": [],
   "source": []
  },
  {
   "cell_type": "code",
   "execution_count": null,
   "id": "cfe84ff6",
   "metadata": {},
   "outputs": [],
   "source": []
  }
 ],
 "metadata": {
  "kernelspec": {
   "display_name": "Python 3 (ipykernel)",
   "language": "python",
   "name": "python3"
  },
  "language_info": {
   "codemirror_mode": {
    "name": "ipython",
    "version": 3
   },
   "file_extension": ".py",
   "mimetype": "text/x-python",
   "name": "python",
   "nbconvert_exporter": "python",
   "pygments_lexer": "ipython3",
   "version": "3.9.7"
  }
 },
 "nbformat": 4,
 "nbformat_minor": 5
}
